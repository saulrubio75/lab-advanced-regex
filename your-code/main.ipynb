{
  "cells": [
    {
      "cell_type": "markdown",
      "metadata": {
        "id": "EMzVKyGNgbNj"
      },
      "source": [
        "# Advanced Regular Expressions Lab\n",
        "\n",
        "Complete the following set of exercises to solidify your knowledge of regular expressions."
      ]
    },
    {
      "cell_type": "code",
      "execution_count": 1,
      "metadata": {
        "id": "AxsjeeZ6gbNr"
      },
      "outputs": [],
      "source": [
        "import re"
      ]
    },
    {
      "cell_type": "markdown",
      "metadata": {
        "id": "VngFajmAgbNs"
      },
      "source": [
        "### 1. Use a regular expression to find and extract all vowels in the following text."
      ]
    },
    {
      "cell_type": "code",
      "execution_count": 2,
      "metadata": {
        "id": "A9EWI7ydgbNs"
      },
      "outputs": [],
      "source": [
        "text = \"This is going to be a sentence with a good number of vowels in it.\""
      ]
    },
    {
      "cell_type": "code",
      "execution_count": 6,
      "metadata": {
        "id": "em4OZw_OgbNt",
        "outputId": "b874f857-a82e-4238-e0bb-2cb566f09f4f",
        "colab": {
          "base_uri": "https://localhost:8080/"
        }
      },
      "outputs": [
        {
          "output_type": "execute_result",
          "data": {
            "text/plain": [
              "['i',\n",
              " ' ',\n",
              " 'i',\n",
              " ' ',\n",
              " 'o',\n",
              " 'i',\n",
              " ' ',\n",
              " 'o',\n",
              " ' ',\n",
              " 'e',\n",
              " ' ',\n",
              " 'a',\n",
              " ' ',\n",
              " 'e',\n",
              " 'e',\n",
              " 'e',\n",
              " ' ',\n",
              " 'i',\n",
              " ' ',\n",
              " 'a',\n",
              " ' ',\n",
              " 'o',\n",
              " 'o',\n",
              " ' ',\n",
              " 'u',\n",
              " 'e',\n",
              " ' ',\n",
              " 'o',\n",
              " ' ',\n",
              " 'o',\n",
              " 'e',\n",
              " ' ',\n",
              " 'i',\n",
              " ' ',\n",
              " 'i']"
            ]
          },
          "metadata": {},
          "execution_count": 6
        }
      ],
      "source": [
        "vowels = '[a, e, i, o, u]'\n",
        "re.findall(vowels, text)"
      ]
    },
    {
      "cell_type": "markdown",
      "metadata": {
        "id": "4r7flbjlgbNt"
      },
      "source": [
        "### 2. Use a regular expression to find and extract all occurrences and tenses (singular and plural) of the word \"puppy\" in the text below."
      ]
    },
    {
      "cell_type": "code",
      "execution_count": 7,
      "metadata": {
        "id": "J01RsjdhgbNt"
      },
      "outputs": [],
      "source": [
        "text = \"The puppy saw all the rest of the puppies playing and wanted to join them. I saw this and wanted a puppy of my own!\""
      ]
    },
    {
      "cell_type": "code",
      "execution_count": 8,
      "metadata": {
        "id": "rTZH3_dZgbNt",
        "outputId": "fd8bef68-272c-40d1-9973-4a95f13d9e40",
        "colab": {
          "base_uri": "https://localhost:8080/"
        }
      },
      "outputs": [
        {
          "output_type": "execute_result",
          "data": {
            "text/plain": [
              "['puppy', 'puppies', 'puppy']"
            ]
          },
          "metadata": {},
          "execution_count": 8
        }
      ],
      "source": [
        "re.findall(r'puppy|puppies', text) "
      ]
    },
    {
      "cell_type": "markdown",
      "metadata": {
        "id": "bf7yhUUVgbNt"
      },
      "source": [
        "### 3. Use a regular expression to find and extract all tenses (present and past) of the word \"run\" in the text below."
      ]
    },
    {
      "cell_type": "code",
      "execution_count": 14,
      "metadata": {
        "id": "1Ro7i6TLgbNu"
      },
      "outputs": [],
      "source": [
        "text = \"I ran the relay race the only way I knew how to run it.\""
      ]
    },
    {
      "cell_type": "code",
      "execution_count": 10,
      "metadata": {
        "id": "NxZn-9gRgbNu",
        "outputId": "5e6e8874-c153-4a05-9b1e-ec08816e95d7",
        "colab": {
          "base_uri": "https://localhost:8080/"
        }
      },
      "outputs": [
        {
          "output_type": "execute_result",
          "data": {
            "text/plain": [
              "['ran', 'run']"
            ]
          },
          "metadata": {},
          "execution_count": 10
        }
      ],
      "source": [
        "re.findall(r'run|ran', text)"
      ]
    },
    {
      "cell_type": "markdown",
      "metadata": {
        "id": "6aoZADSBgbNu"
      },
      "source": [
        "### 4. Use a regular expression to find and extract all words that begin with the letter \"r\" from the previous text."
      ]
    },
    {
      "cell_type": "code",
      "execution_count": 15,
      "metadata": {
        "id": "4ph2PNKZgbNu",
        "outputId": "92943f85-757f-4c36-cd85-a369e47b31fd",
        "colab": {
          "base_uri": "https://localhost:8080/"
        }
      },
      "outputs": [
        {
          "output_type": "execute_result",
          "data": {
            "text/plain": [
              "['ran', 'relay', 'race', 'run']"
            ]
          },
          "metadata": {},
          "execution_count": 15
        }
      ],
      "source": [
        "re.findall(r'r[a-z]+', text)"
      ]
    },
    {
      "cell_type": "markdown",
      "metadata": {
        "id": "gGTMVWmNgbNu"
      },
      "source": [
        "### 5. Use a regular expression to find and substitute the letter \"i\" for the exclamation marks in the text below."
      ]
    },
    {
      "cell_type": "code",
      "execution_count": 12,
      "metadata": {
        "id": "omt1QauwgbNu"
      },
      "outputs": [],
      "source": [
        "text = \"Th!s !s a sentence w!th spec!al characters !n !t.\""
      ]
    },
    {
      "cell_type": "code",
      "execution_count": 16,
      "metadata": {
        "id": "hAkhTZoEgbNv",
        "outputId": "ecb870e3-d7ca-4102-d554-50648e89b9c0",
        "colab": {
          "base_uri": "https://localhost:8080/",
          "height": 35
        }
      },
      "outputs": [
        {
          "output_type": "execute_result",
          "data": {
            "text/plain": [
              "'I ran the relay race the only way I knew how to run it.'"
            ],
            "application/vnd.google.colaboratory.intrinsic+json": {
              "type": "string"
            }
          },
          "metadata": {},
          "execution_count": 16
        }
      ],
      "source": [
        "re.sub('!', 'i', text)"
      ]
    },
    {
      "cell_type": "markdown",
      "metadata": {
        "id": "cR5EA_qtgbNv"
      },
      "source": [
        "### 6. Use a regular expression to find and extract words longer than 4 characters in the text below."
      ]
    },
    {
      "cell_type": "code",
      "execution_count": 17,
      "metadata": {
        "id": "J7B-mqk0gbNv"
      },
      "outputs": [],
      "source": [
        "text = \"This sentence has words of varying lengths.\""
      ]
    },
    {
      "cell_type": "code",
      "execution_count": 19,
      "metadata": {
        "id": "yuUSuxPTgbNv",
        "outputId": "37334213-185d-42e5-846e-92d301890401",
        "colab": {
          "base_uri": "https://localhost:8080/"
        }
      },
      "outputs": [
        {
          "output_type": "execute_result",
          "data": {
            "text/plain": [
              "['sentence', 'words', 'varying', 'lengths']"
            ]
          },
          "metadata": {},
          "execution_count": 19
        }
      ],
      "source": [
        "re.findall(r'\\b[a-zA-Z]{5,}\\b', text)"
      ]
    },
    {
      "cell_type": "markdown",
      "metadata": {
        "id": "yussTJ95gbNv"
      },
      "source": [
        "### 7. Use a regular expression to find and extract all occurrences of the letter \"b\", some letter(s), and then the letter \"t\" in the sentence below."
      ]
    },
    {
      "cell_type": "code",
      "execution_count": 20,
      "metadata": {
        "id": "qu5RYPZigbNv"
      },
      "outputs": [],
      "source": [
        "text = \"I bet the robot couldn't beat the other bot with a bat, but instead it bit me.\""
      ]
    },
    {
      "cell_type": "code",
      "execution_count": 21,
      "metadata": {
        "id": "dLWfytl1gbNv",
        "outputId": "e562f24e-3e92-485c-8554-b14f6bb2a696",
        "colab": {
          "base_uri": "https://localhost:8080/"
        }
      },
      "outputs": [
        {
          "output_type": "execute_result",
          "data": {
            "text/plain": [
              "['be', 'bo', 'be', 'bo', 'ba', 'bu', 'bi']"
            ]
          },
          "metadata": {},
          "execution_count": 21
        }
      ],
      "source": [
        "re.findall('b[^.t/]', text)"
      ]
    },
    {
      "cell_type": "markdown",
      "metadata": {
        "id": "jghTFSG7gbNv"
      },
      "source": [
        "### 8. Use a regular expression to find and extract all words that contain either \"ea\" or \"eo\" in them."
      ]
    },
    {
      "cell_type": "code",
      "execution_count": 22,
      "metadata": {
        "id": "lKYIsvFOgbNv"
      },
      "outputs": [],
      "source": [
        "text = \"During many of the peaks and troughs of history, the people living it didn't fully realize what was unfolding. But we all know we're navigating breathtaking history: Nearly every day could be — maybe will be — a book.\"\n"
      ]
    },
    {
      "cell_type": "code",
      "execution_count": 23,
      "metadata": {
        "id": "_Rf2gjFIgbNw",
        "outputId": "7923041f-0fc5-465e-ef0e-11f7358599cd",
        "colab": {
          "base_uri": "https://localhost:8080/"
        }
      },
      "outputs": [
        {
          "output_type": "execute_result",
          "data": {
            "text/plain": [
              "['peaks', 'people', 'realize', 'breathtaking', 'Nearly']"
            ]
          },
          "metadata": {},
          "execution_count": 23
        }
      ],
      "source": [
        "re.findall(r'[a-zA-Z]+(?:eo|ea)[a-z]+', text)"
      ]
    },
    {
      "cell_type": "markdown",
      "metadata": {
        "id": "DoDHxydDgbNw"
      },
      "source": [
        "### 9. Use a regular expression to find and extract all the capitalized words in the text below individually."
      ]
    },
    {
      "cell_type": "code",
      "execution_count": 24,
      "metadata": {
        "id": "fr-FQIJygbNw"
      },
      "outputs": [],
      "source": [
        "text = \"Teddy Roosevelt and Abraham Lincoln walk into a bar.\""
      ]
    },
    {
      "cell_type": "code",
      "execution_count": 25,
      "metadata": {
        "id": "4ffSo1aFgbNw",
        "outputId": "83c10e18-6d30-4f90-cf70-ccbca1228e6f",
        "colab": {
          "base_uri": "https://localhost:8080/"
        }
      },
      "outputs": [
        {
          "output_type": "execute_result",
          "data": {
            "text/plain": [
              "['Teddy', 'Roosevelt', 'Abraham', 'Lincoln']"
            ]
          },
          "metadata": {},
          "execution_count": 25
        }
      ],
      "source": [
        "re.findall(r'[A-Z]+[a-z]+', text)"
      ]
    },
    {
      "cell_type": "markdown",
      "metadata": {
        "id": "iI7ENGVMgbNw"
      },
      "source": [
        "### 10. Use a regular expression to find and extract all the sets of consecutive capitalized words in the text above."
      ]
    },
    {
      "cell_type": "code",
      "execution_count": 27,
      "metadata": {
        "id": "zYl-U06YgbNw",
        "outputId": "c150aba7-b376-428d-d8ca-51f7ae418181",
        "colab": {
          "base_uri": "https://localhost:8080/"
        }
      },
      "outputs": [
        {
          "output_type": "execute_result",
          "data": {
            "text/plain": [
              "['Teddy Roosevelt', 'Abraham Lincoln']"
            ]
          },
          "metadata": {},
          "execution_count": 27
        }
      ],
      "source": [
        "re.findall(r'[A-Z]+[a-z]+ [A-Z]+[a-z]+', text)"
      ]
    },
    {
      "cell_type": "markdown",
      "metadata": {
        "id": "VNtlsXcdgbNw"
      },
      "source": [
        "### 11. Use a regular expression to find and extract all the quotes from the text below.\n",
        "\n",
        "*Hint: This one is a little more complex than the single quote example in the lesson because there are multiple quotes in the text.*"
      ]
    },
    {
      "cell_type": "code",
      "execution_count": 28,
      "metadata": {
        "id": "o0j6gwVYgbNw"
      },
      "outputs": [],
      "source": [
        "text = 'Roosevelt says to Lincoln, \"I will bet you $50 I can get the bartender to give me a free drink.\" Lincoln says, \"I am in!\"'\n"
      ]
    },
    {
      "cell_type": "code",
      "execution_count": 29,
      "metadata": {
        "id": "sgjwGPu1gbNw",
        "outputId": "77475cb7-e8f8-4400-92fa-9a6abf40c123",
        "colab": {
          "base_uri": "https://localhost:8080/"
        }
      },
      "outputs": [
        {
          "output_type": "execute_result",
          "data": {
            "text/plain": [
              "['I will bet you $50 I can get the bartender to give me a free drink.',\n",
              " 'I am in!']"
            ]
          },
          "metadata": {},
          "execution_count": 29
        }
      ],
      "source": [
        "re.findall(r'\\\"([^\\\"]*)\\\"', text)"
      ]
    },
    {
      "cell_type": "markdown",
      "metadata": {
        "id": "XSbtHIH1gbNw"
      },
      "source": [
        "### 12. Use a regular expression to find and extract all the numbers from the text below."
      ]
    },
    {
      "cell_type": "code",
      "execution_count": 30,
      "metadata": {
        "id": "l-IafZw4gbNw"
      },
      "outputs": [],
      "source": [
        "text = \"There were 30 students in the class. Of the 30 students, 14 were male and 16 were female. Only 10 students got A's on the exam.\"\n"
      ]
    },
    {
      "cell_type": "code",
      "execution_count": 33,
      "metadata": {
        "id": "EqBeSp2qgbNw",
        "outputId": "a99553a7-13cf-487d-ca92-d0e483e3b3dd",
        "colab": {
          "base_uri": "https://localhost:8080/"
        }
      },
      "outputs": [
        {
          "output_type": "execute_result",
          "data": {
            "text/plain": [
              "['30', '30', '14', '16', '10']"
            ]
          },
          "metadata": {},
          "execution_count": 33
        }
      ],
      "source": [
        "re.findall(r'[0-9]+', text)"
      ]
    },
    {
      "cell_type": "markdown",
      "metadata": {
        "id": "Iqien2KSgbNx"
      },
      "source": [
        "### 13. Use a regular expression to find and extract all the social security numbers from the text below."
      ]
    },
    {
      "cell_type": "code",
      "execution_count": 34,
      "metadata": {
        "id": "DPOkwHcfgbNx"
      },
      "outputs": [],
      "source": [
        "text = \"\"\"\n",
        "Henry's social security number is 876-93-2289 and his phone number is (847)789-0984.\n",
        "Darlene's social security number is 098-32-5295 and her phone number is (987)222-0901.\n",
        "\"\"\""
      ]
    },
    {
      "cell_type": "code",
      "execution_count": 35,
      "metadata": {
        "id": "zQXYO80cgbNx",
        "outputId": "58f68ba4-a121-475e-a933-c44064137aed",
        "colab": {
          "base_uri": "https://localhost:8080/"
        }
      },
      "outputs": [
        {
          "output_type": "execute_result",
          "data": {
            "text/plain": [
              "['876-93-2289', '098-32-5295']"
            ]
          },
          "metadata": {},
          "execution_count": 35
        }
      ],
      "source": [
        "re.findall(r'\\d..-..-....', text)"
      ]
    },
    {
      "cell_type": "markdown",
      "metadata": {
        "id": "ZSYKj02PgbNx"
      },
      "source": [
        "### 14. Use a regular expression to find and extract all the phone numbers from the text above."
      ]
    },
    {
      "cell_type": "code",
      "execution_count": 36,
      "metadata": {
        "id": "FLXMsFn0gbNx",
        "outputId": "0d5c787e-efd9-41fd-de76-0fb109198aa1",
        "colab": {
          "base_uri": "https://localhost:8080/"
        }
      },
      "outputs": [
        {
          "output_type": "execute_result",
          "data": {
            "text/plain": [
              "['(847)789-0984', '(987)222-0901']"
            ]
          },
          "metadata": {},
          "execution_count": 36
        }
      ],
      "source": [
        "re.findall(r'[(]\\d..[)]...-....', text)"
      ]
    },
    {
      "cell_type": "markdown",
      "metadata": {
        "id": "7w8eOXCmgbNx"
      },
      "source": [
        "### 15. Use a regular expression to find and extract all the formatted numbers (both social security and phone) from the text above."
      ]
    },
    {
      "cell_type": "code",
      "execution_count": 37,
      "metadata": {
        "id": "uCdCLuGRgbNx",
        "outputId": "fc65994a-61af-4989-eb81-fbde3cfcdfee",
        "colab": {
          "base_uri": "https://localhost:8080/"
        }
      },
      "outputs": [
        {
          "output_type": "execute_result",
          "data": {
            "text/plain": [
              "['876-93-2289', '(847)789-0984', '098-32-5295', '(987)222-0901']"
            ]
          },
          "metadata": {},
          "execution_count": 37
        }
      ],
      "source": [
        "re.findall(r'\\d..-..-....|[(]\\d..[)]...-....', text)"
      ]
    }
  ],
  "metadata": {
    "kernelspec": {
      "display_name": "Python 3",
      "language": "python",
      "name": "python3"
    },
    "language_info": {
      "codemirror_mode": {
        "name": "ipython",
        "version": 3
      },
      "file_extension": ".py",
      "mimetype": "text/x-python",
      "name": "python",
      "nbconvert_exporter": "python",
      "pygments_lexer": "ipython3",
      "version": "3.7.3"
    },
    "colab": {
      "provenance": []
    }
  },
  "nbformat": 4,
  "nbformat_minor": 0
}